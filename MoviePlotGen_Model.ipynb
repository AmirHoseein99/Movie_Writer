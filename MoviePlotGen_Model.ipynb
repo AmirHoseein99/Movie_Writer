{
  "nbformat": 4,
  "nbformat_minor": 0,
  "metadata": {
    "colab": {
      "provenance": [],
      "mount_file_id": "1hYOlnBgUCACqRgl3YLbMTmwh3YKMjV1g",
      "authorship_tag": "ABX9TyNOrrdNCyCJYxBUGC+UDWYo",
      "include_colab_link": true
    },
    "kernelspec": {
      "name": "python3",
      "display_name": "Python 3"
    },
    "language_info": {
      "name": "python"
    },
    "accelerator": "GPU",
    "gpuClass": "standard"
  },
  "cells": [
    {
      "cell_type": "markdown",
      "metadata": {
        "id": "view-in-github",
        "colab_type": "text"
      },
      "source": [
        "<a href=\"https://colab.research.google.com/github/AmirHoseein99/Movie_Writer/blob/master/MoviePlotGen_Model.ipynb\" target=\"_parent\"><img src=\"https://colab.research.google.com/assets/colab-badge.svg\" alt=\"Open In Colab\"/></a>"
      ]
    },
    {
      "cell_type": "code",
      "source": [
        "import pickle\n",
        "import numpy as np\n",
        "import pandas as pd\n",
        "import tensorflow as tf\n",
        "from tensorflow import keras\n",
        "from keras.models import Model\n",
        "from keras.utils import to_categorical\n",
        "from keras.utils.vis_utils import plot_model\n",
        "from tensorflow.keras.models import load_model\n",
        "from tensorflow.keras.preprocessing.text import Tokenizer\n",
        "from tensorflow.keras.preprocessing.sequence import pad_sequences \n",
        "from keras.layers import Embedding, LSTM, Dense, GRU, Bidirectional, Input"
      ],
      "metadata": {
        "id": "6wBA4Y1-kxqb"
      },
      "execution_count": 35,
      "outputs": []
    },
    {
      "cell_type": "code",
      "source": [
        "dataset_df = pd.read_csv(\"/content/drive/MyDrive/Colab Notebooks/MoviePlotGenerator/wiki_movie_plots_deduped.csv.zip\")\n",
        "dataset_df.head()"
      ],
      "metadata": {
        "colab": {
          "base_uri": "https://localhost:8080/",
          "height": 250
        },
        "id": "l3aZ1DJqk3R7",
        "outputId": "c2c75c28-f7e0-4270-8bf8-4750aa5bee52"
      },
      "execution_count": 2,
      "outputs": [
        {
          "output_type": "execute_result",
          "data": {
            "text/plain": [
              "   Release Year                             Title Origin/Ethnicity  \\\n",
              "0          1901            Kansas Saloon Smashers         American   \n",
              "1          1901     Love by the Light of the Moon         American   \n",
              "2          1901           The Martyred Presidents         American   \n",
              "3          1901  Terrible Teddy, the Grizzly King         American   \n",
              "4          1902            Jack and the Beanstalk         American   \n",
              "\n",
              "                             Director Cast    Genre  \\\n",
              "0                             Unknown  NaN  unknown   \n",
              "1                             Unknown  NaN  unknown   \n",
              "2                             Unknown  NaN  unknown   \n",
              "3                             Unknown  NaN  unknown   \n",
              "4  George S. Fleming, Edwin S. Porter  NaN  unknown   \n",
              "\n",
              "                                           Wiki Page  \\\n",
              "0  https://en.wikipedia.org/wiki/Kansas_Saloon_Sm...   \n",
              "1  https://en.wikipedia.org/wiki/Love_by_the_Ligh...   \n",
              "2  https://en.wikipedia.org/wiki/The_Martyred_Pre...   \n",
              "3  https://en.wikipedia.org/wiki/Terrible_Teddy,_...   \n",
              "4  https://en.wikipedia.org/wiki/Jack_and_the_Bea...   \n",
              "\n",
              "                                                Plot  \n",
              "0  A bartender is working at a saloon, serving dr...  \n",
              "1  The moon, painted with a smiling face hangs ov...  \n",
              "2  The film, just over a minute long, is composed...  \n",
              "3  Lasting just 61 seconds and consisting of two ...  \n",
              "4  The earliest known adaptation of the classic f...  "
            ],
            "text/html": [
              "\n",
              "  <div id=\"df-dfb0b707-4365-472c-a47a-a68fdc59b28f\">\n",
              "    <div class=\"colab-df-container\">\n",
              "      <div>\n",
              "<style scoped>\n",
              "    .dataframe tbody tr th:only-of-type {\n",
              "        vertical-align: middle;\n",
              "    }\n",
              "\n",
              "    .dataframe tbody tr th {\n",
              "        vertical-align: top;\n",
              "    }\n",
              "\n",
              "    .dataframe thead th {\n",
              "        text-align: right;\n",
              "    }\n",
              "</style>\n",
              "<table border=\"1\" class=\"dataframe\">\n",
              "  <thead>\n",
              "    <tr style=\"text-align: right;\">\n",
              "      <th></th>\n",
              "      <th>Release Year</th>\n",
              "      <th>Title</th>\n",
              "      <th>Origin/Ethnicity</th>\n",
              "      <th>Director</th>\n",
              "      <th>Cast</th>\n",
              "      <th>Genre</th>\n",
              "      <th>Wiki Page</th>\n",
              "      <th>Plot</th>\n",
              "    </tr>\n",
              "  </thead>\n",
              "  <tbody>\n",
              "    <tr>\n",
              "      <th>0</th>\n",
              "      <td>1901</td>\n",
              "      <td>Kansas Saloon Smashers</td>\n",
              "      <td>American</td>\n",
              "      <td>Unknown</td>\n",
              "      <td>NaN</td>\n",
              "      <td>unknown</td>\n",
              "      <td>https://en.wikipedia.org/wiki/Kansas_Saloon_Sm...</td>\n",
              "      <td>A bartender is working at a saloon, serving dr...</td>\n",
              "    </tr>\n",
              "    <tr>\n",
              "      <th>1</th>\n",
              "      <td>1901</td>\n",
              "      <td>Love by the Light of the Moon</td>\n",
              "      <td>American</td>\n",
              "      <td>Unknown</td>\n",
              "      <td>NaN</td>\n",
              "      <td>unknown</td>\n",
              "      <td>https://en.wikipedia.org/wiki/Love_by_the_Ligh...</td>\n",
              "      <td>The moon, painted with a smiling face hangs ov...</td>\n",
              "    </tr>\n",
              "    <tr>\n",
              "      <th>2</th>\n",
              "      <td>1901</td>\n",
              "      <td>The Martyred Presidents</td>\n",
              "      <td>American</td>\n",
              "      <td>Unknown</td>\n",
              "      <td>NaN</td>\n",
              "      <td>unknown</td>\n",
              "      <td>https://en.wikipedia.org/wiki/The_Martyred_Pre...</td>\n",
              "      <td>The film, just over a minute long, is composed...</td>\n",
              "    </tr>\n",
              "    <tr>\n",
              "      <th>3</th>\n",
              "      <td>1901</td>\n",
              "      <td>Terrible Teddy, the Grizzly King</td>\n",
              "      <td>American</td>\n",
              "      <td>Unknown</td>\n",
              "      <td>NaN</td>\n",
              "      <td>unknown</td>\n",
              "      <td>https://en.wikipedia.org/wiki/Terrible_Teddy,_...</td>\n",
              "      <td>Lasting just 61 seconds and consisting of two ...</td>\n",
              "    </tr>\n",
              "    <tr>\n",
              "      <th>4</th>\n",
              "      <td>1902</td>\n",
              "      <td>Jack and the Beanstalk</td>\n",
              "      <td>American</td>\n",
              "      <td>George S. Fleming, Edwin S. Porter</td>\n",
              "      <td>NaN</td>\n",
              "      <td>unknown</td>\n",
              "      <td>https://en.wikipedia.org/wiki/Jack_and_the_Bea...</td>\n",
              "      <td>The earliest known adaptation of the classic f...</td>\n",
              "    </tr>\n",
              "  </tbody>\n",
              "</table>\n",
              "</div>\n",
              "      <button class=\"colab-df-convert\" onclick=\"convertToInteractive('df-dfb0b707-4365-472c-a47a-a68fdc59b28f')\"\n",
              "              title=\"Convert this dataframe to an interactive table.\"\n",
              "              style=\"display:none;\">\n",
              "        \n",
              "  <svg xmlns=\"http://www.w3.org/2000/svg\" height=\"24px\"viewBox=\"0 0 24 24\"\n",
              "       width=\"24px\">\n",
              "    <path d=\"M0 0h24v24H0V0z\" fill=\"none\"/>\n",
              "    <path d=\"M18.56 5.44l.94 2.06.94-2.06 2.06-.94-2.06-.94-.94-2.06-.94 2.06-2.06.94zm-11 1L8.5 8.5l.94-2.06 2.06-.94-2.06-.94L8.5 2.5l-.94 2.06-2.06.94zm10 10l.94 2.06.94-2.06 2.06-.94-2.06-.94-.94-2.06-.94 2.06-2.06.94z\"/><path d=\"M17.41 7.96l-1.37-1.37c-.4-.4-.92-.59-1.43-.59-.52 0-1.04.2-1.43.59L10.3 9.45l-7.72 7.72c-.78.78-.78 2.05 0 2.83L4 21.41c.39.39.9.59 1.41.59.51 0 1.02-.2 1.41-.59l7.78-7.78 2.81-2.81c.8-.78.8-2.07 0-2.86zM5.41 20L4 18.59l7.72-7.72 1.47 1.35L5.41 20z\"/>\n",
              "  </svg>\n",
              "      </button>\n",
              "      \n",
              "  <style>\n",
              "    .colab-df-container {\n",
              "      display:flex;\n",
              "      flex-wrap:wrap;\n",
              "      gap: 12px;\n",
              "    }\n",
              "\n",
              "    .colab-df-convert {\n",
              "      background-color: #E8F0FE;\n",
              "      border: none;\n",
              "      border-radius: 50%;\n",
              "      cursor: pointer;\n",
              "      display: none;\n",
              "      fill: #1967D2;\n",
              "      height: 32px;\n",
              "      padding: 0 0 0 0;\n",
              "      width: 32px;\n",
              "    }\n",
              "\n",
              "    .colab-df-convert:hover {\n",
              "      background-color: #E2EBFA;\n",
              "      box-shadow: 0px 1px 2px rgba(60, 64, 67, 0.3), 0px 1px 3px 1px rgba(60, 64, 67, 0.15);\n",
              "      fill: #174EA6;\n",
              "    }\n",
              "\n",
              "    [theme=dark] .colab-df-convert {\n",
              "      background-color: #3B4455;\n",
              "      fill: #D2E3FC;\n",
              "    }\n",
              "\n",
              "    [theme=dark] .colab-df-convert:hover {\n",
              "      background-color: #434B5C;\n",
              "      box-shadow: 0px 1px 3px 1px rgba(0, 0, 0, 0.15);\n",
              "      filter: drop-shadow(0px 1px 2px rgba(0, 0, 0, 0.3));\n",
              "      fill: #FFFFFF;\n",
              "    }\n",
              "  </style>\n",
              "\n",
              "      <script>\n",
              "        const buttonEl =\n",
              "          document.querySelector('#df-dfb0b707-4365-472c-a47a-a68fdc59b28f button.colab-df-convert');\n",
              "        buttonEl.style.display =\n",
              "          google.colab.kernel.accessAllowed ? 'block' : 'none';\n",
              "\n",
              "        async function convertToInteractive(key) {\n",
              "          const element = document.querySelector('#df-dfb0b707-4365-472c-a47a-a68fdc59b28f');\n",
              "          const dataTable =\n",
              "            await google.colab.kernel.invokeFunction('convertToInteractive',\n",
              "                                                     [key], {});\n",
              "          if (!dataTable) return;\n",
              "\n",
              "          const docLinkHtml = 'Like what you see? Visit the ' +\n",
              "            '<a target=\"_blank\" href=https://colab.research.google.com/notebooks/data_table.ipynb>data table notebook</a>'\n",
              "            + ' to learn more about interactive tables.';\n",
              "          element.innerHTML = '';\n",
              "          dataTable['output_type'] = 'display_data';\n",
              "          await google.colab.output.renderOutput(dataTable, element);\n",
              "          const docLink = document.createElement('div');\n",
              "          docLink.innerHTML = docLinkHtml;\n",
              "          element.appendChild(docLink);\n",
              "        }\n",
              "      </script>\n",
              "    </div>\n",
              "  </div>\n",
              "  "
            ]
          },
          "metadata": {},
          "execution_count": 2
        }
      ]
    },
    {
      "cell_type": "code",
      "source": [
        "dataset_df = dataset_df[dataset_df[\"Genre\"] != \"unknown\"]\n",
        "dataset_df.shape"
      ],
      "metadata": {
        "colab": {
          "base_uri": "https://localhost:8080/"
        },
        "id": "1ltchousmNqC",
        "outputId": "a6ff7b53-69e9-4f55-ddb2-dbee36881678"
      },
      "execution_count": null,
      "outputs": [
        {
          "output_type": "execute_result",
          "data": {
            "text/plain": [
              "(28803, 8)"
            ]
          },
          "metadata": {},
          "execution_count": 3
        }
      ]
    },
    {
      "cell_type": "code",
      "source": [
        "drama_movie_plot = dataset_df[dataset_df[\"Genre\"] == \"drama\"]\n",
        "drama_movie_plot.shape"
      ],
      "metadata": {
        "colab": {
          "base_uri": "https://localhost:8080/"
        },
        "id": "0HNn4gB7139W",
        "outputId": "d7daf160-5407-456f-9b5f-f95ae70f2721"
      },
      "execution_count": null,
      "outputs": [
        {
          "output_type": "execute_result",
          "data": {
            "text/plain": [
              "(5964, 8)"
            ]
          },
          "metadata": {},
          "execution_count": 4
        }
      ]
    },
    {
      "cell_type": "code",
      "source": [
        "drama_movie_plot = dataset_df[(dataset_df[\"Genre\"] == \"drama\") & (dataset_df[\"Release Year\"] >= 2000)]\n",
        "drama_movie_plot.shape"
      ],
      "metadata": {
        "colab": {
          "base_uri": "https://localhost:8080/"
        },
        "id": "-qV2sb2N2GS3",
        "outputId": "8fd33389-80fd-42b2-ada4-fbff73c2ad2b"
      },
      "execution_count": null,
      "outputs": [
        {
          "output_type": "execute_result",
          "data": {
            "text/plain": [
              "(1675, 8)"
            ]
          },
          "metadata": {},
          "execution_count": 11
        }
      ]
    },
    {
      "cell_type": "markdown",
      "source": [
        "# **Using Words to Generate the plot**"
      ],
      "metadata": {
        "id": "IDP-XMIi1nyD"
      }
    },
    {
      "cell_type": "code",
      "source": [
        "drama_movie_plot = dataset_df[(dataset_df[\"Genre\"] == \"drama\") & (dataset_df[\"Release Year\"] >= 2000)].Plot.to_numpy()\n",
        "print(\"uesd dataset shape : \", drama_movie_plot.shape)\n",
        "drama_movie_plot[0]"
      ],
      "metadata": {
        "colab": {
          "base_uri": "https://localhost:8080/",
          "height": 140
        },
        "id": "62oPngVVmk8c",
        "outputId": "3558010a-fc5d-494f-ab3d-29966f23d692"
      },
      "execution_count": 3,
      "outputs": [
        {
          "output_type": "stream",
          "name": "stdout",
          "text": [
            "uesd dataset shape :  (1675,)\n"
          ]
        },
        {
          "output_type": "execute_result",
          "data": {
            "text/plain": [
              "\"Gwen Cummings (Sandra Bullock) spends her nights in a drunken haze with her boyfriend, Jasper (Dominic West). She ruins her sister (Elizabeth Perkins) Lily's wedding by showing up late and disheveled, delivering a drunken, rambling speech, and knocking over the wedding cake. Intoxicated, Gwen steals a limousine from the reception, tries to locate a cake store, and winds up losing control of the car and crashing into a house. She is given a choice between 28 days in jail or in a rehab center, and she chooses rehab.\\r\\nGwen is introduced to a variety of patients while in treatment: Oliver (Mike O'Malley) (a hypersexual cocaine addict), Daniel (Reni Santoni) and Roshanda (Marianne Jean-Baptiste) (alcoholics), Bobbi Jean (Diane Ladd) (an older addict), Gerhardt (Alan Tudyk) (a gay man whose addiction is not specified), and Cornell (Steve Buscemi), the rehab facility's director (a recovered drug addict and alcoholic). Her roommate is young Andrea (Azura Skye), a heroin addict who sporadically self-harms and is a fan of the fictitious soap opera Santa Cruz.\\r\\nInitially, Gwen is angry and resistant to taking part in any of the treatment programs on offer, refusing to admit that she is an alcoholic. On visiting day, Jasper shows up and slips her a bottle of medication, then the two sneak off for a day of drinking and drugging. Later, Gwen returns to the facility, clearly inebriated. The next day, Gwen is confronted by Cornell. He informs her that she's being kicked out of rehab the next day and will be going to jail instead. Gwen angrily denies that she has a problem with alcohol, that she can stop anytime that she wants. Ignored, she angrily makes her way back to her room, where she rifles through her tissue box to get to her smuggled drugs. She puts a pill in her mouth but quickly spits it back out, then tosses the open bottle out the third-story window.\\r\\nAll throughout the day, Gwen experiences withdrawal symptoms. She shuns the meetings and any activities, all the while desperately trying to push through her physical discomfort on her own. Later that evening, in a moment of weakness, she attempts to climb out her window and retrieve the discarded meds. She falls, severely spraining her ankle, and is rescued by Eddie (Viggo Mortensen), a pro baseball player and fellow addict, who is just arriving as a new patient.\\r\\nThe next morning, Gwen asks Cornell for another chance, finally convinced that anyone who would climb out of a three-story window to chase a high might have a problem. He relents; and Gwen finally begins to participate in the recovery process, growing closer to her fellow addicts and her roommate, Andrea. Gwen discovers that Eddie is also a fan of Santa Cruz, and their fellow group participants join Eddie and Andrea in catching up on tapes of the show. During therapy sessions, Gwen experiences flashbacks of a childhood that included a thrill-seeking addict mother who died of an overdose when Gwen was about six, leaving young Lily and Gwen to be raised by an aunt.\\r\\nOn one of his visits, Jasper proposes to Gwen, bringing champagne to celebrate. Not wanting to jeopardize her newfound sobriety, Gwen throws the champagne into the lake. Later, her fellow addicts try to encourage her to see that Jasper isn't taking her sobriety seriously and to be careful. At some point, Gwen's sister Lily attends a group therapy session but leaves in disgust when Gwen become dismissive of Lily's recollections and resentments of her younger sister's drunken antics.\\r\\nEddie and Gwen's friendship grows closer. Afraid to share what she'd done as a practicing alcoholic for fear of looking bad to Eddie, they share a moment when Eddie tells her that's just what she's done. She is just fine as she is. They are come upon by Jasper, who showed up unannounced. Jasper then proceeds to insult and pick a fight with Eddie, shoving him. Eddie punches him before Gwen stops any further violence. Eddie walks off, and Gwen and Eddie's friendship becomes estranged.\\r\\nGwen's roommate, Andrea, is soon to be released and has been agitated and moody at the prospect, as well as heartbroken that her mother has never visited her during her entire stint in rehab. Gwen discovers Andrea dead in their bathroom, clearly having overdosed. Andrea's death leaves Gwen devastated and perhaps wiser as to how an addict's behavior affects others. Gwen commits herself to restoring her relationship with her sister. Gwen and Lily reconcile, and Gwen leaves treatment, but not before Eddie warns her that Jasper is dangerous to her sobriety.\\r\\nBack in New York, Jasper tries to make amends to Gwen for his behavior. Reconciling, Gwen tries to help Jasper to understand what needs to change in their relationship to support her recovery; but she soon sees that Jasper doesn't take her sobriety seriously. Seeing old party friends, Jasper wants to join them, demonstrating that he won't change his lifestyle or adjust to her needs and abstentions as a recovering addict. Gwen comes to terms with the fact that they are too different now and starts to see that recovery, though an everyday struggle, might be attainable. She breaks up with Jasper and walks away for good. Some time later, she is reunited with a sober Gerhardt at a floral shop. In a post-credit scene, Eddie recognizes a Santa Cruz character, Falcon, arrive as a new patient at the rehab facility.\""
            ],
            "application/vnd.google.colaboratory.intrinsic+json": {
              "type": "string"
            }
          },
          "metadata": {},
          "execution_count": 3
        }
      ]
    },
    {
      "cell_type": "code",
      "source": [
        "tokenizer = Tokenizer()\n",
        "tokenizer.fit_on_texts(drama_movie_plot)\n",
        "vocab_size = len(tokenizer.word_index)\n",
        "drama_movie_plot_seq = tokenizer.texts_to_sequences(drama_movie_plot)\n",
        "print(\"number of unique Tokens : \", len(tokenizer.word_index))"
      ],
      "metadata": {
        "colab": {
          "base_uri": "https://localhost:8080/"
        },
        "id": "R3NyqoOSmEjY",
        "outputId": "bb0f9ced-e7c9-4acf-fd54-bc1b9508a929"
      },
      "execution_count": null,
      "outputs": [
        {
          "output_type": "stream",
          "name": "stdout",
          "text": [
            "number of unique Tokens :  33130\n"
          ]
        }
      ]
    },
    {
      "cell_type": "code",
      "source": [
        "plot_tokens = [token for plot in drama_movie_plot_seq for token in  plot]"
      ],
      "metadata": {
        "id": "YCctxEcDu4lM"
      },
      "execution_count": null,
      "outputs": []
    },
    {
      "cell_type": "code",
      "source": [
        "tokenizer.sequences_to_texts([drama_movie_plot_seq[0][:26]])"
      ],
      "metadata": {
        "colab": {
          "base_uri": "https://localhost:8080/"
        },
        "id": "luE_pRPGu9RW",
        "outputId": "940b636c-ab8c-4115-91b7-d73bb582d57f"
      },
      "execution_count": null,
      "outputs": [
        {
          "output_type": "execute_result",
          "data": {
            "text/plain": [
              "[\"gwen cummings sandra bullock spends her nights in a drunken haze with her boyfriend jasper dominic west she ruins her sister elizabeth perkins lily's wedding by\"]"
            ]
          },
          "metadata": {},
          "execution_count": 6
        }
      ]
    },
    {
      "cell_type": "code",
      "source": [
        "train_seq_len = 25\n",
        "seq_len = train_seq_len + 1\n",
        "text_sequences = []\n",
        "for i in range(seq_len, len(tokenizer.word_index)):\n",
        "    # Construct sequence.\n",
        "    seq = plot_tokens[i - seq_len: i]\n",
        "    # Append.\n",
        "    text_sequences.append(seq)\n",
        "text_sequences = np.array(text_sequences)\n",
        "print('all sequences shape : ', text_sequences.shape)"
      ],
      "metadata": {
        "colab": {
          "base_uri": "https://localhost:8080/"
        },
        "id": "pTmnMleitxze",
        "outputId": "626ccc56-a7f1-4b44-9105-2e6072b6c9ed"
      },
      "execution_count": null,
      "outputs": [
        {
          "output_type": "stream",
          "name": "stdout",
          "text": [
            "all sequences shape :  (33104, 26)\n"
          ]
        }
      ]
    },
    {
      "cell_type": "code",
      "source": [
        "print(\"first sequence len : \", len(tokenizer.sequences_to_texts([text_sequences[0]])[0].split(\" \")))\n",
        "print(\"first sequence train tokens: \", tokenizer.sequences_to_texts([text_sequences[0]])[0].split(\" \")[:-1])\n",
        "print(\"first sequence traget tokens: \", tokenizer.sequences_to_texts([text_sequences[0]])[0].split(\" \")[-1])"
      ],
      "metadata": {
        "colab": {
          "base_uri": "https://localhost:8080/"
        },
        "id": "lXJXNZfYuDDL",
        "outputId": "05d4f82a-0c30-4b01-ba86-6243d5ffd5b6"
      },
      "execution_count": null,
      "outputs": [
        {
          "output_type": "stream",
          "name": "stdout",
          "text": [
            "first sequence len :  26\n",
            "first sequence train tokens:  ['gwen', 'cummings', 'sandra', 'bullock', 'spends', 'her', 'nights', 'in', 'a', 'drunken', 'haze', 'with', 'her', 'boyfriend', 'jasper', 'dominic', 'west', 'she', 'ruins', 'her', 'sister', 'elizabeth', 'perkins', \"lily's\", 'wedding']\n",
            "first sequence traget tokens:  by\n"
          ]
        }
      ]
    },
    {
      "cell_type": "code",
      "source": [
        "X, y = np.array(text_sequences[:, :-1]), np.array(text_sequences[:, -1])\n",
        "print(\"train X shape is :\", X.shape)\n",
        "print(\"train y shape is :\", y.shape)"
      ],
      "metadata": {
        "colab": {
          "base_uri": "https://localhost:8080/"
        },
        "id": "giL9eFRozloz",
        "outputId": "4d04fe60-2e04-4bad-cd33-29d7031a0aa1"
      },
      "execution_count": null,
      "outputs": [
        {
          "output_type": "stream",
          "name": "stdout",
          "text": [
            "train X shape is : (33104, 25)\n",
            "train y shape is : (33104,)\n"
          ]
        }
      ]
    },
    {
      "cell_type": "code",
      "source": [
        "\n",
        "y = to_categorical(y, num_classes=(vocab_size + 1))\n",
        "print(\"train y shape after transform :\", y.shape)"
      ],
      "metadata": {
        "colab": {
          "base_uri": "https://localhost:8080/"
        },
        "id": "M6uvTBAqzla1",
        "outputId": "b688fa34-2214-47a3-8f79-dcd782e4dd4f"
      },
      "execution_count": null,
      "outputs": [
        {
          "output_type": "stream",
          "name": "stdout",
          "text": [
            "train y shape after transform : (33104, 33131)\n"
          ]
        }
      ]
    },
    {
      "cell_type": "code",
      "source": [
        "\n",
        "input_layer = Input(shape=(train_seq_len))\n",
        "embedding_layer = Embedding(input_dim=vocab_size, output_dim=16, input_length=train_seq_len)(input_layer)\n",
        "bi_gru_1 = Bidirectional(GRU(8, return_sequences=True))(embedding_layer)\n",
        "bi_gru_2 = Bidirectional(GRU(8))(bi_gru_1)\n",
        "\n",
        "dense_1 = Dense(32, activation=\"elu\")(bi_gru_2)\n",
        "dense__output = Dense(units=vocab_size+1, activation=\"softmax\")(dense_1)\n",
        "gru_model = keras.Model(input_layer, dense__output)"
      ],
      "metadata": {
        "id": "r1XdeAR2x73b"
      },
      "execution_count": null,
      "outputs": []
    },
    {
      "cell_type": "code",
      "source": [
        "plot_model(gru_model, to_file='model_plot.png', show_shapes=True, show_layer_names=True)"
      ],
      "metadata": {
        "colab": {
          "base_uri": "https://localhost:8080/",
          "height": 644
        },
        "id": "CE56iXQF335z",
        "outputId": "9263ca02-e58d-42cb-efa0-ba0e6d90d66e"
      },
      "execution_count": null,
      "outputs": [
        {
          "output_type": "execute_result",
          "data": {
            "image/png": "[encoded data removed]",
            "text/plain": [
              "<IPython.core.display.Image object>"
            ]
          },
          "metadata": {},
          "execution_count": 13
        }
      ]
    },
    {
      "cell_type": "code",
      "source": [
        "epochs = 180\n",
        "batch_size = 32\n",
        "callbacks = [\n",
        "\n",
        "    keras.callbacks.ReduceLROnPlateau(\n",
        "        monitor=\"accuracy\", factor=0.5, patience=10, min_lr=0.0001\n",
        "    ),\n",
        "    keras.callbacks.EarlyStopping(monitor=\"accuracy\", patience=50, verbose=1),\n",
        "]"
      ],
      "metadata": {
        "id": "3TZzStrv6J2h"
      },
      "execution_count": null,
      "outputs": []
    },
    {
      "cell_type": "code",
      "source": [
        "gru_model.compile(\n",
        "    optimizer=\"adam\",\n",
        "    loss='categorical_crossentropy',\n",
        "    metrics=[\"accuracy\"],\n",
        ")\n",
        "\n",
        "history = gru_model.fit(\n",
        "    X, y, batch_size=batch_size, epochs=epochs, callbacks=callbacks, verbose=1)"
      ],
      "metadata": {
        "id": "K_ez6xIo6Jz-"
      },
      "execution_count": null,
      "outputs": []
    },
    {
      "cell_type": "code",
      "source": [
        "\n",
        "pickle.dump(tokenizer, open('/content/drive/MyDrive/Colab Notebooks/MoviePlotGenerator/tokenizer', 'wb'))\n",
        "gru_model.save('/content/drive/MyDrive/Colab Notebooks/MoviePlotGenerator/gru_model.h5')"
      ],
      "metadata": {
        "id": "UoeZS4-v6Jxk"
      },
      "execution_count": null,
      "outputs": []
    },
    {
      "cell_type": "code",
      "source": [
        "\n",
        "gru_model = load_model ('/content/drive/MyDrive/Colab Notebooks/MoviePlotGenerator/gru_model.h5')\n",
        "with open('/content/drive/MyDrive/Colab Notebooks/MoviePlotGenerator/tokenizer', 'rb') as pickle_file:\n",
        "    tokenizer = pickle.load(pickle_file)"
      ],
      "metadata": {
        "id": "h1fHr4nhR3BF"
      },
      "execution_count": 12,
      "outputs": []
    },
    {
      "cell_type": "code",
      "source": [
        "\n",
        "\n",
        "def generate_text(model, tokenizer, seq_len, seed_text, num_gen_words):\n",
        "    output_text = []\n",
        "    input_text = seed_text\n",
        "    \n",
        "    for i in range(num_gen_words):\n",
        "        encoded_text = tokenizer.texts_to_sequences([input_text])[0]\n",
        "        pad_encoded = pad_sequences([encoded_text], maxlen=seq_len, truncating='pre')\n",
        "        pred_word_ind =np.argmax( model.predict(pad_encoded, verbose=0))\n",
        "        pred_word = tokenizer.index_word[pred_word_ind]\n",
        "        input_text += ' ' + pred_word\n",
        "        output_text.append(pred_word)\n",
        "        \n",
        "    return ' '.join(output_text)"
      ],
      "metadata": {
        "id": "CdL-t3v86JvE"
      },
      "execution_count": 33,
      "outputs": []
    },
    {
      "cell_type": "code",
      "source": [
        "sample_text = drama_movie_plot[0].split(\" \")[:25]\n",
        "print(' '.join(sample_text))"
      ],
      "metadata": {
        "colab": {
          "base_uri": "https://localhost:8080/"
        },
        "id": "NIcr1PHKLksW",
        "outputId": "aea15e51-4a2f-4328-8cc9-c5cdbbce0e17"
      },
      "execution_count": 25,
      "outputs": [
        {
          "output_type": "stream",
          "name": "stdout",
          "text": [
            "Gwen Cummings (Sandra Bullock) spends her nights in a drunken haze with her boyfriend, Jasper (Dominic West). She ruins her sister (Elizabeth Perkins) Lily's wedding\n"
          ]
        }
      ]
    },
    {
      "cell_type": "code",
      "source": [
        "generated_text = generate_text(model=gru_model, \n",
        "                               tokenizer=tokenizer,\n",
        "                               seq_len=25, \n",
        "                               seed_text=sample_text, \n",
        "                               num_gen_words=40)\n",
        "print(generated_text)"
      ],
      "metadata": {
        "id": "sg-qecch6JqV",
        "colab": {
          "base_uri": "https://localhost:8080/"
        },
        "outputId": "2a36cd2f-821e-4ec5-ffa8-ca322b3eb2e6"
      },
      "execution_count": 34,
      "outputs": [
        {
          "output_type": "stream",
          "name": "stdout",
          "text": [
            "home that two and are friend engage relationship and the game teams sessions is 10 it were of gives fielding that end the game girls him she buddy loves years short who was flight way colonel her in and execution\n"
          ]
        }
      ]
    },
    {
      "cell_type": "markdown",
      "source": [
        "# **Using Characters to Generate the plot**"
      ],
      "metadata": {
        "id": "_PdooAAB1fcM"
      }
    },
    {
      "cell_type": "code",
      "source": [],
      "metadata": {
        "id": "TjEICFBf9ogd"
      },
      "execution_count": null,
      "outputs": []
    },
    {
      "cell_type": "code",
      "source": [],
      "metadata": {
        "id": "EEL2YuJx9odk"
      },
      "execution_count": null,
      "outputs": []
    },
    {
      "cell_type": "code",
      "source": [],
      "metadata": {
        "id": "-5z9-QHo9oZ_"
      },
      "execution_count": null,
      "outputs": []
    },
    {
      "cell_type": "code",
      "source": [],
      "metadata": {
        "id": "el2PfPD99oWv"
      },
      "execution_count": null,
      "outputs": []
    },
    {
      "cell_type": "code",
      "source": [],
      "metadata": {
        "id": "2Bbkd2XQzkvp"
      },
      "execution_count": null,
      "outputs": []
    },
    {
      "cell_type": "code",
      "source": [],
      "metadata": {
        "id": "NdCg1TOkzktE"
      },
      "execution_count": null,
      "outputs": []
    },
    {
      "cell_type": "code",
      "source": [],
      "metadata": {
        "id": "uZbt742VzkqC"
      },
      "execution_count": null,
      "outputs": []
    },
    {
      "cell_type": "code",
      "source": [],
      "metadata": {
        "id": "w803paLWTnKA"
      },
      "execution_count": null,
      "outputs": []
    },
    {
      "cell_type": "code",
      "source": [],
      "metadata": {
        "id": "_M4rjmxJTnHb"
      },
      "execution_count": null,
      "outputs": []
    },
    {
      "cell_type": "code",
      "source": [],
      "metadata": {
        "id": "NCQWCDLVTnFR"
      },
      "execution_count": null,
      "outputs": []
    },
    {
      "cell_type": "code",
      "source": [],
      "metadata": {
        "id": "3HxaolCfTnDA"
      },
      "execution_count": null,
      "outputs": []
    },
    {
      "cell_type": "code",
      "source": [],
      "metadata": {
        "id": "btsq1tZ9TnAZ"
      },
      "execution_count": null,
      "outputs": []
    },
    {
      "cell_type": "code",
      "source": [],
      "metadata": {
        "id": "1cWdre68Tm9k"
      },
      "execution_count": null,
      "outputs": []
    },
    {
      "cell_type": "code",
      "source": [],
      "metadata": {
        "id": "nDxwAqYxTm5i"
      },
      "execution_count": null,
      "outputs": []
    }
  ]
}